{
 "cells": [
  {
   "cell_type": "code",
   "execution_count": null,
   "id": "fa217759",
   "metadata": {},
   "outputs": [],
   "source": [
    "import requests\n",
    "import time \n",
    "import datetime\n",
    "import csv\n",
    "import numpy as np\n",
    "import pandas as pd"
   ]
  },
  {
   "cell_type": "code",
   "execution_count": null,
   "id": "4200a29d",
   "metadata": {},
   "outputs": [],
   "source": [
    "#Вставьте свой токен\n",
    "access_token = ''\n",
    "owner_id = '-215426617' #1tsprint vk id"
   ]
  },
  {
   "cell_type": "markdown",
   "id": "1706a80a",
   "metadata": {},
   "source": [
    "### Функция получения ответа API vk.com в виде Json"
   ]
  },
  {
   "cell_type": "code",
   "execution_count": null,
   "id": "b3bf77e7",
   "metadata": {},
   "outputs": [],
   "source": [
    "def getjson(url, data = None):\n",
    "    response = requests.get(url, params = data)\n",
    "    response.raise_for_status()\n",
    "    print(response.url, '\\n')\n",
    "    return response.json()"
   ]
  },
  {
   "cell_type": "markdown",
   "id": "63d83b71",
   "metadata": {},
   "source": [
    "### Функция получения всех записей на стене сообщества и их общего количества, метод wall.get"
   ]
  },
  {
   "cell_type": "code",
   "execution_count": null,
   "id": "3a78f6c0",
   "metadata": {},
   "outputs": [],
   "source": [
    "def get_all_posts(access_token, owner_id, count = 100, offset=0):\n",
    "    all_posts = []\n",
    "     \n",
    "    while True:\n",
    "        time.sleep(1)\n",
    "        wall = getjson(\"https://api.vk.com/method/wall.get\", {\n",
    "            'owner_id' : owner_id, \n",
    "            'count' : count,\n",
    "            'access_token' : access_token,\n",
    "            'offset' : offset,\n",
    "            'v' : '5.92'\n",
    "            })\n",
    "         \n",
    "        count_posts = wall['response']['count']\n",
    "        posts = wall['response']['items']\n",
    "         \n",
    "        all_posts.extend(posts)\n",
    "         \n",
    "        if len(all_posts) >= count_posts:\n",
    "            break\n",
    "        else:\n",
    "            offset += 100\n",
    "            \n",
    "    return all_posts, count_posts"
   ]
  },
  {
   "cell_type": "markdown",
   "id": "ca512a0f",
   "metadata": {},
   "source": [
    "### Функция обработки ответа API vk.com (полученных методом wall.get)"
   ]
  },
  {
   "cell_type": "code",
   "execution_count": null,
   "id": "b2fc5932",
   "metadata": {},
   "outputs": [],
   "source": [
    "def make_posts(all_posts):\n",
    "    filtered_data = []\n",
    "    for post in all_posts:\n",
    "         \n",
    "        try:\n",
    "            id = post['id']\n",
    "        except:\n",
    "            id = 0\n",
    "             \n",
    "        try:\n",
    "            owner_id = str(post['owner_id'])[1:]\n",
    "        except:\n",
    "            owner_id = ''\n",
    "             \n",
    "        try:\n",
    "            link = 'https://vk.com/wall-{owner_id}_{id}'.format(owner_id = owner_id, id = id)\n",
    "        except:\n",
    "            link = ''\n",
    "             \n",
    "        try:\n",
    "            date = datetime.datetime.fromtimestamp(int(post['date'])).strftime('%d-%m-%Y')\n",
    "        except:\n",
    "            date = ''\n",
    "         \n",
    "        try:\n",
    "            likes = post['likes']['count']\n",
    "        except:\n",
    "            likes = 0\n",
    "             \n",
    "        try:\n",
    "            reposts = post['reposts']['count']\n",
    "        except:\n",
    "            reposts = 0\n",
    "             \n",
    "        try:\n",
    "            comments = post['comments']['count']\n",
    "        except:\n",
    "            comments = 0\n",
    "             \n",
    "        try:\n",
    "            text = post['text']\n",
    "        except:\n",
    "            text = ''\n",
    "             \n",
    "        filtered_post = {\n",
    "                'id' : id,\n",
    "                'date' : date,\n",
    "                'likes' : likes,\n",
    "                'reposts' : reposts,\n",
    "                'comments' : comments,\n",
    "                'text' : str(text),\n",
    "                'link' : link,\n",
    "                'group_id' : owner_id,\n",
    "                }\n",
    "         \n",
    "        filtered_data.append(filtered_post)\n",
    "     \n",
    "    return filtered_data"
   ]
  },
  {
   "cell_type": "markdown",
   "id": "bfaa58c6",
   "metadata": {},
   "source": [
    "### Извлечение данных из ответа API vk.com  (полученных методом wall.get)"
   ]
  },
  {
   "cell_type": "code",
   "execution_count": null,
   "id": "c04ca7a3",
   "metadata": {},
   "outputs": [],
   "source": [
    "all_posts, count_posts = get_all_posts (access_token, owner_id)\n",
    "ref_posts = make_posts(all_posts)\n",
    "count_reposts = sum([dic['reposts'] for dic in ref_posts])\n",
    "ref_posts"
   ]
  },
  {
   "cell_type": "markdown",
   "id": "544523dc",
   "metadata": {},
   "source": [
    "### Получение количества подписчиков, , метод groups.getById"
   ]
  },
  {
   "cell_type": "code",
   "execution_count": null,
   "id": "ecb34bb2",
   "metadata": {},
   "outputs": [],
   "source": [
    "wall = requests.get(\"https://api.vk.com/method/groups.getById\", {\n",
    "        'group_ids' : owner_id[1:],\n",
    "        'grour_id' : owner_id[1:],\n",
    "        'access_token' : access_token,\n",
    "        'fields' : 'members_count',\n",
    "        'v' : '5.131'\n",
    "        })\n",
    "wall.raise_for_status()\n",
    "count_users = wall.json()['response'][0]['members_count']"
   ]
  },
  {
   "cell_type": "markdown",
   "id": "736f59fc",
   "metadata": {},
   "source": [
    "### Запись данных заданий 1-3 в файл task_3.2.csv"
   ]
  },
  {
   "cell_type": "code",
   "execution_count": null,
   "id": "f4f74110",
   "metadata": {
    "scrolled": true
   },
   "outputs": [],
   "source": [
    "answer = list()\n",
    "answer.append({'Показатель': 'Количество подписчиков', 'Значение':count_users})\n",
    "answer.append({'Показатель': 'Количество постов', 'Значение':count_posts})\n",
    "answer.append({'Показатель': 'Количество репостов', 'Значение':count_reposts})                   \n",
    "\n",
    "with open('task_3.2.csv', 'w', newline='') as f:\n",
    "    fieldnames = ['Показатель', 'Значение']\n",
    "    writer = csv.DictWriter(f, fieldnames=fieldnames, delimiter=';')\n",
    "    writer.writeheader()\n",
    "    writer.writerows(answer)"
   ]
  },
  {
   "cell_type": "markdown",
   "id": "4df61743",
   "metadata": {},
   "source": [
    "### Конверсия данных, полученных со стены vk.com, в pandas.DataFrame"
   ]
  },
  {
   "cell_type": "code",
   "execution_count": null,
   "id": "d72e37ff",
   "metadata": {},
   "outputs": [],
   "source": [
    "df = pd.DataFrame(ref_posts)"
   ]
  },
  {
   "cell_type": "markdown",
   "id": "d487de77",
   "metadata": {},
   "source": [
    "### Решение задания п. 4"
   ]
  },
  {
   "cell_type": "code",
   "execution_count": null,
   "id": "68271f82",
   "metadata": {
    "scrolled": true
   },
   "outputs": [],
   "source": [
    "from datetime import datetime\n",
    "import dateutil.relativedelta\n",
    "\n",
    "df4 = df[['text', 'likes', 'date']]\n",
    "df4['date'] = df4['date'].apply(lambda x: datetime.strptime(x, '%d-%m-%Y').date())\n",
    "\n",
    "# определяем дату 3 месяца назад и фильтруем данные\n",
    "init_date = (datetime.today() - dateutil.relativedelta.relativedelta(months=3)).date()\n",
    "df4 = df4[df4['date'] > init_date] \n",
    "\n",
    "# сортировка по количеству лайков и запись результата в файл question_4.csv\n",
    "df4.sort_values(by='likes', ascending=False).head(10).to_csv('question_4.csv', sep=';', encoding='utf-8', index=False)"
   ]
  },
  {
   "cell_type": "markdown",
   "id": "937ff05c",
   "metadata": {},
   "source": [
    "### Решение задания п. 5"
   ]
  },
  {
   "cell_type": "code",
   "execution_count": null,
   "id": "95dc9f43",
   "metadata": {},
   "outputs": [],
   "source": [
    "df5 = df[['id', 'text', 'comments', 'date']]\n",
    "# запись результата в файл question_5.csv\n",
    "df5.sort_values(by='comments', ascending=False).head(10).to_csv('question_5.csv', sep=';', encoding='utf-8', index=False)"
   ]
  },
  {
   "cell_type": "markdown",
   "id": "975e83ad",
   "metadata": {},
   "source": [
    "### Решение задания п. 6"
   ]
  },
  {
   "cell_type": "code",
   "execution_count": null,
   "id": "26bbf64b",
   "metadata": {},
   "outputs": [],
   "source": [
    "# список id поста и количества комментариев к нему\n",
    "df6 = df[['id', 'comments']]\n",
    "comm_lst = df6.values.tolist()"
   ]
  },
  {
   "cell_type": "markdown",
   "id": "8b750eb6",
   "metadata": {},
   "source": [
    "#### Получение данных о комментариях, метод wall.getComments"
   ]
  },
  {
   "cell_type": "code",
   "execution_count": null,
   "id": "7f9c82ab",
   "metadata": {},
   "outputs": [],
   "source": [
    "comments = list()\n",
    "offset = 0\n",
    "\n",
    "for line in comm_lst:\n",
    "    response = requests.get('https://api.vk.com/method/wall.getComments',\n",
    "                            params={\n",
    "                                'access_token': access_token,\n",
    "                                'v': '5.131',\n",
    "                                'owner_id': owner_id,\n",
    "                                'count': line[1],\n",
    "                                'offset': offset,\n",
    "                                'post_id': line[0]\n",
    "                                }\n",
    "                            )\n",
    "    data = response.json()['response']['items']\n",
    "    comments.extend(data)\n",
    "comments[:3]"
   ]
  },
  {
   "cell_type": "code",
   "execution_count": null,
   "id": "a6e16381",
   "metadata": {},
   "outputs": [],
   "source": [
    "ref_comments = list()\n",
    "for line in comments:\n",
    "    _ = dict()\n",
    "    _['post_id'] = line['post_id']\n",
    "    _['id'] = line['id']\n",
    "    _['date'] = line['date']\n",
    "    _['text'] = line['text']\n",
    "    if line['from_id'] < 0:\n",
    "        line['from_id'] = -(line['from_id'])\n",
    "    else:\n",
    "        line['from_id']\n",
    "    _['from_id'] = line['from_id']\n",
    "    ref_comments.append(_)"
   ]
  },
  {
   "cell_type": "markdown",
   "id": "69e6d83a",
   "metadata": {},
   "source": [
    "#### Получение данных об авторах комментариев, метод users.get"
   ]
  },
  {
   "cell_type": "code",
   "execution_count": null,
   "id": "07c5b215",
   "metadata": {},
   "outputs": [],
   "source": [
    "_ = pd.DataFrame(ref_comments)\n",
    "df6 = _[['from_id']]\n",
    "users_lst = df6.values.tolist()\n",
    "\n",
    "users = []\n",
    "for line in users_lst:\n",
    "    response = requests.get('https://api.vk.com/method/users.get',\n",
    "                            params={\n",
    "                                'access_token': access_token,\n",
    "                                'user_ids': line[0],\n",
    "                                'v': '5.92'\n",
    "                                }\n",
    "                            )\n",
    "    data = response.json()['response']\n",
    "    users.extend(data)\n",
    "\n",
    "    \n",
    "ref_users = []\n",
    "\n",
    "for line in users:\n",
    "    _ = dict()\n",
    "    _['id'] = line['id']\n",
    "    _['full_name'] = line['first_name'] + ' ' + line['last_name']\n",
    "    ref_users.append(_)"
   ]
  },
  {
   "cell_type": "markdown",
   "id": "f22d6b76",
   "metadata": {},
   "source": [
    "#### Сведение всех данных и запись в файл question_6.csv"
   ]
  },
  {
   "cell_type": "code",
   "execution_count": null,
   "id": "dd8e99dd",
   "metadata": {},
   "outputs": [],
   "source": [
    "posts_df = df[['id', 'date', 'text']]\n",
    "\n",
    "comments_df = pd.DataFrame(ref_comments)\n",
    "comments_df['date'] = comments_df['date'].apply(lambda x: datetime.fromtimestamp(x / 1000).date())\n",
    "\n",
    "users_df = pd.DataFrame(ref_users)"
   ]
  },
  {
   "cell_type": "code",
   "execution_count": null,
   "id": "c9182ef9",
   "metadata": {
    "scrolled": true
   },
   "outputs": [],
   "source": [
    "_ = comments_df.merge(users_df, left_on='from_id', right_on='id', how='inner')\n",
    "_.drop_duplicates(keep='first', inplace=True)\n",
    "_ = posts_df.merge(_, left_on='id', right_on='post_id', how='left')\n",
    "_.fillna(0, inplace= True)\n",
    "_=_.astype({'id_x':np.int64})\n",
    "_=_.drop(columns=['post_id', 'from_id', 'id_y'])\n",
    "_=_.astype({'id':np.str, 'id_x':np.str, 'text_y':np.str})\n",
    "_=_.rename(columns={'id': 'id поста', 'date_x': 'дата поста', 'text_x': 'текст поста', 'id_x': 'id комментария', \\\n",
    "                    'date_y': 'дата комментария', 'text_y': 'текст комментария', 'full_name': 'автор комментария'})\n",
    "\n",
    "# файл question_6.csv с полными данными парсинга постов группы\n",
    "_.to_csv('question_6.csv', sep=';', encoding='utf-8', index=False)"
   ]
  },
  {
   "cell_type": "markdown",
   "id": "e13204a5",
   "metadata": {},
   "source": [
    "_! по условию задания необходимо отфильтровать посты группы по упоминанию в комментариях о Data Engineering, однако таких комментариев не обнаружено, поэтому в файл question_6_filt.csv я записываю данные о постах, упоминающихо Data Engineering_"
   ]
  },
  {
   "cell_type": "code",
   "execution_count": null,
   "id": "48a960f0",
   "metadata": {},
   "outputs": [],
   "source": [
    "_['col1'] = _['текст поста'].str.lower()\n",
    "_['col2'] = _['col1'].str.contains('дата инженер|data eng|инженер данных')\n",
    "_ = _[_['col2'] == True]\n",
    "_=_.drop(columns=['col2', 'col1'])\n",
    "\n",
    "_.to_csv('question_6_filt.csv', sep=';', encoding='utf-8', index=False)"
   ]
  }
 ],
 "metadata": {
  "kernelspec": {
   "display_name": "Python 3 (ipykernel)",
   "language": "python",
   "name": "python3"
  },
  "language_info": {
   "codemirror_mode": {
    "name": "ipython",
    "version": 3
   },
   "file_extension": ".py",
   "mimetype": "text/x-python",
   "name": "python",
   "nbconvert_exporter": "python",
   "pygments_lexer": "ipython3",
   "version": "3.10.9"
  }
 },
 "nbformat": 4,
 "nbformat_minor": 5
}
