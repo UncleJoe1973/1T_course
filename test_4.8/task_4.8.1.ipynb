{
 "cells": [
  {
   "cell_type": "markdown",
   "id": "79169148",
   "metadata": {},
   "source": [
    "## Создание сессии Spark"
   ]
  },
  {
   "cell_type": "code",
   "execution_count": null,
   "id": "26d1823b",
   "metadata": {},
   "outputs": [],
   "source": [
    "import findspark\n",
    "findspark.init()\n",
    "findspark.find()"
   ]
  },
  {
   "cell_type": "code",
   "execution_count": null,
   "id": "549510cb",
   "metadata": {},
   "outputs": [],
   "source": [
    "from pyspark.sql import SparkSession"
   ]
  },
  {
   "cell_type": "code",
   "execution_count": null,
   "id": "3f9af7dd",
   "metadata": {},
   "outputs": [],
   "source": [
    "spark = SparkSession.builder\\\n",
    "    .master(\"local[1]\")\\\n",
    "    .appName(\"task_47\")\\\n",
    "    .config(\"spark.executor.memory\", \"10g\")\\\n",
    "    .config(\"spark.executor.cores\", 5)\\\n",
    "    .config(\"spark.dynamicAllocation.enabled\", \"true\")\\\n",
    "    .config(\"spark.dynamicAllocation.maxExecutors\", 5)\\\n",
    "    .config(\"spark.shuffle.service.enabled\", \"true\")\\\n",
    ".getOrCreate()"
   ]
  },
  {
   "cell_type": "markdown",
   "id": "1c289259",
   "metadata": {},
   "source": [
    "## Задание 4.8.1"
   ]
  },
  {
   "cell_type": "code",
   "execution_count": null,
   "id": "525d5d3e",
   "metadata": {},
   "outputs": [],
   "source": [
    "#исходные данные\n",
    "row_data = ((1, 1562007679), (1, 1562007710), (1, 1562007720), (1, 1562007750),\\\n",
    "            (2, 1564682430), (2, 1564682450), (2, 1564682480))\n",
    "\n",
    "columns= [\"id\", \"time_stamp\"]\n",
    "\n",
    "df = spark.createDataFrame(data = row_data, schema = columns)"
   ]
  },
  {
   "cell_type": "code",
   "execution_count": null,
   "id": "0ad3d3fc",
   "metadata": {
    "scrolled": false
   },
   "outputs": [],
   "source": [
    "df.printSchema()"
   ]
  },
  {
   "cell_type": "code",
   "execution_count": null,
   "id": "f6523958",
   "metadata": {},
   "outputs": [],
   "source": [
    "df.show(truncate=False)"
   ]
  },
  {
   "cell_type": "code",
   "execution_count": null,
   "id": "f67c999e",
   "metadata": {},
   "outputs": [],
   "source": [
    "from pyspark.sql.window import Window\n",
    "from pyspark.sql.functions import min, max\n",
    "\n",
    "windowSpec  = Window.partitionBy(\"id\")\n",
    "\n",
    "df = df.withColumn(\"minn\", min(\"time_stamp\").over(windowSpec))\\\n",
    "       .withColumn(\"maxx\", max(\"time_stamp\").over(windowSpec))"
   ]
  },
  {
   "cell_type": "code",
   "execution_count": null,
   "id": "343952ba",
   "metadata": {},
   "outputs": [],
   "source": [
    "temp_table_name = 'temp'\n",
    "df.createOrReplaceTempView(temp_table_name)\n",
    "\n",
    "sql = '''\n",
    "    select distinct id, maxx - minn \n",
    "    from temp\n",
    "'''\n",
    "\n",
    "df = spark.sql(sql).withColumnRenamed('(maxx - minn)', 'Длительность сессии, сек')\n",
    "df.show(truncate=False)"
   ]
  },
  {
   "cell_type": "code",
   "execution_count": null,
   "id": "168eaeab",
   "metadata": {},
   "outputs": [],
   "source": [
    "spark.stop"
   ]
  }
 ],
 "metadata": {
  "kernelspec": {
   "display_name": "Python 3 (ipykernel)",
   "language": "python",
   "name": "python3"
  },
  "language_info": {
   "codemirror_mode": {
    "name": "ipython",
    "version": 3
   },
   "file_extension": ".py",
   "mimetype": "text/x-python",
   "name": "python",
   "nbconvert_exporter": "python",
   "pygments_lexer": "ipython3",
   "version": "3.11.4"
  }
 },
 "nbformat": 4,
 "nbformat_minor": 5
}
