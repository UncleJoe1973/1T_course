{
 "cells": [
  {
   "cell_type": "code",
   "execution_count": null,
   "id": "fa217759",
   "metadata": {},
   "outputs": [],
   "source": [
    "import requests\n",
    "import time \n",
    "import datetime\n",
    "import csv"
   ]
  },
  {
   "cell_type": "code",
   "execution_count": null,
   "id": "4200a29d",
   "metadata": {},
   "outputs": [],
   "source": [
    "#Вставьте свой токен\n",
    "access_token = ''\n",
    "owner_id = '-215426617' #1tsprint vk id"
   ]
  },
  {
   "cell_type": "markdown",
   "id": "1706a80a",
   "metadata": {},
   "source": [
    "### Функция получения ответа API vk.com в виде Json"
   ]
  },
  {
   "cell_type": "code",
   "execution_count": null,
   "id": "b3bf77e7",
   "metadata": {},
   "outputs": [],
   "source": [
    "def getjson(url, data = None):\n",
    "    response = requests.get(url, params = data)\n",
    "    response.raise_for_status()\n",
    "    print(response.url, '\\n')\n",
    "    return response.json()"
   ]
  },
  {
   "cell_type": "markdown",
   "id": "63d83b71",
   "metadata": {},
   "source": [
    "### Функция получения всех записей на стене сообщества и их общего количества, метод wall.get"
   ]
  },
  {
   "cell_type": "code",
   "execution_count": null,
   "id": "3a78f6c0",
   "metadata": {},
   "outputs": [],
   "source": [
    "def get_all_posts (access_token, owner_id, count = 100, offset=0):\n",
    "    all_posts = []\n",
    "     \n",
    "    while True:\n",
    "        time.sleep(1)\n",
    "        wall = getjson(\"https://api.vk.com/method/wall.get\", {\n",
    "            'owner_id' : owner_id, \n",
    "            'count' : count,\n",
    "            'access_token' : access_token,\n",
    "            'offset' : offset,\n",
    "            'v' : '5.92'\n",
    "            })\n",
    "         \n",
    "        count_posts = wall['response']['count']\n",
    "        posts = wall['response']['items']\n",
    "         \n",
    "        all_posts.extend(posts)\n",
    "         \n",
    "        if len(all_posts) >= count_posts:\n",
    "            break\n",
    "        else:\n",
    "            offset += 100\n",
    "            \n",
    "    return all_posts, count_posts"
   ]
  },
  {
   "cell_type": "markdown",
   "id": "ca512a0f",
   "metadata": {},
   "source": [
    "### Функция обработки ответа API vk.com (полученных методом wall.get)"
   ]
  },
  {
   "cell_type": "code",
   "execution_count": null,
   "id": "b2fc5932",
   "metadata": {},
   "outputs": [],
   "source": [
    "def make_posts(all_posts):\n",
    "    filtered_data = []\n",
    "    for post in all_posts:\n",
    "         \n",
    "        try:\n",
    "            id = post['id']\n",
    "        except:\n",
    "            id = 0\n",
    "             \n",
    "        try:\n",
    "            owner_id = str(post['owner_id'])[1:]\n",
    "        except:\n",
    "            owner_id = ''\n",
    "             \n",
    "        try:\n",
    "            link = 'https://vk.com/wall-{owner_id}_{id}'.format(owner_id = owner_id, id = id)\n",
    "        except:\n",
    "            link = ''\n",
    "             \n",
    "        try:\n",
    "            date = datetime.datetime.fromtimestamp(int(post['date'])).strftime('%d-%m-%Y')\n",
    "        except:\n",
    "            date = ''\n",
    "         \n",
    "        try:\n",
    "            likes = post['likes']['count']\n",
    "        except:\n",
    "            likes = 0\n",
    "             \n",
    "        try:\n",
    "            reposts = post['reposts']['count']\n",
    "        except:\n",
    "            reposts = 0\n",
    "             \n",
    "        try:\n",
    "            comments = post['comments']['count']\n",
    "        except:\n",
    "            comments = 0\n",
    "             \n",
    "        try:\n",
    "            text = post['text']\n",
    "        except:\n",
    "            text = ''\n",
    "             \n",
    "        filtered_post = {\n",
    "                'id' : id,\n",
    "                'date' : date,\n",
    "                'likes' : likes,\n",
    "                'reposts' : reposts,\n",
    "                'comments' : comments,\n",
    "                'text' : str(text),\n",
    "                'link' : link,\n",
    "                'group_id' : owner_id,\n",
    "                }\n",
    "         \n",
    "        filtered_data.append(filtered_post)\n",
    "     \n",
    "    return filtered_data"
   ]
  },
  {
   "cell_type": "markdown",
   "id": "bfaa58c6",
   "metadata": {},
   "source": [
    "### Извлечение данных из ответа API vk.com  (полученных методом wall.get)"
   ]
  },
  {
   "cell_type": "code",
   "execution_count": null,
   "id": "c04ca7a3",
   "metadata": {},
   "outputs": [],
   "source": [
    "all_posts, count_posts = get_all_posts (access_token, owner_id)\n",
    "ref_posts = make_posts(all_posts)\n",
    "count_reposts = sum([dic['reposts'] for dic in ref_posts])"
   ]
  },
  {
   "cell_type": "markdown",
   "id": "544523dc",
   "metadata": {},
   "source": [
    "### Получение количества подписчиков, , метод groups.getById"
   ]
  },
  {
   "cell_type": "code",
   "execution_count": null,
   "id": "ecb34bb2",
   "metadata": {},
   "outputs": [],
   "source": [
    "wall = requests.get(\"https://api.vk.com/method/groups.getById\", {\n",
    "        'group_ids' : owner_id[1:],\n",
    "        'grour_id' : owner_id[1:],\n",
    "        'access_token' : access_token,\n",
    "        'fields' : 'members_count',\n",
    "        'v' : '5.131'\n",
    "        })\n",
    "wall.raise_for_status()\n",
    "count_users = wall.json()['response'][0]['members_count']"
   ]
  },
  {
   "cell_type": "markdown",
   "id": "736f59fc",
   "metadata": {},
   "source": [
    "### Запись данных задания в файл"
   ]
  },
  {
   "cell_type": "code",
   "execution_count": null,
   "id": "f4f74110",
   "metadata": {
    "scrolled": true
   },
   "outputs": [],
   "source": [
    "answer = list()\n",
    "answer.append({'Показатель': 'Количество подписчиков', 'Значение':count_users})\n",
    "answer.append({'Показатель': 'Количество постов', 'Значение':count_posts})\n",
    "answer.append({'Показатель': 'Количество репостов', 'Значение':count_reposts})                   \n",
    "\n",
    "with open('task_3.2.csv', 'w', newline='') as f:\n",
    "    fieldnames = ['Показатель', 'Значение']\n",
    "    writer = csv.DictWriter(f, fieldnames=fieldnames, delimiter=';')\n",
    "    writer.writeheader()\n",
    "    writer.writerows(answer)"
   ]
  }
 ],
 "metadata": {
  "kernelspec": {
   "display_name": "Python 3 (ipykernel)",
   "language": "python",
   "name": "python3"
  },
  "language_info": {
   "codemirror_mode": {
    "name": "ipython",
    "version": 3
   },
   "file_extension": ".py",
   "mimetype": "text/x-python",
   "name": "python",
   "nbconvert_exporter": "python",
   "pygments_lexer": "ipython3",
   "version": "3.10.9"
  }
 },
 "nbformat": 4,
 "nbformat_minor": 5
}
