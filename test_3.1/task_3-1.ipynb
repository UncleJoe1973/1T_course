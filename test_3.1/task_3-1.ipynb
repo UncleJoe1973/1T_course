{
 "cells": [
  {
   "cell_type": "markdown",
   "id": "440bc3dd",
   "metadata": {},
   "source": [
    "## Решение задания по теме \"Введение в Python. Базовые операции\""
   ]
  },
  {
   "cell_type": "markdown",
   "id": "ec894785",
   "metadata": {},
   "source": [
    "### Импорт"
   ]
  },
  {
   "cell_type": "code",
   "execution_count": null,
   "id": "857e6af5",
   "metadata": {},
   "outputs": [],
   "source": [
    "import numpy as np\n",
    "import pandas as pd\n",
    "import string"
   ]
  },
  {
   "cell_type": "markdown",
   "id": "72e1de48",
   "metadata": {},
   "source": [
    "### Тестовая строка"
   ]
  },
  {
   "cell_type": "code",
   "execution_count": null,
   "id": "48a8a0b1",
   "metadata": {},
   "outputs": [],
   "source": [
    "n = 'Автор статьи, перевод которой мы сегодня публикуем, говорит, что она предназначена для тех разработчиков, которые хотят изучить Docker Compose и идут к тому, чтобы создать своё первое клиент-серверное приложение с использованием Docker. Предполагается, что читатель этого материала знаком с основами Docker. Если это не так - можете взглянуть на эту серию материалов, на эту публикацию, где основы Docker рассмотрены вместе с основами Kubernetes, и на эту статью для начинающих.'"
   ]
  },
  {
   "cell_type": "markdown",
   "id": "be6bcab2",
   "metadata": {},
   "source": [
    "### Написать программу, которая удаляет из списка все элементы, стоящие на четных позициях."
   ]
  },
  {
   "cell_type": "code",
   "execution_count": null,
   "id": "842bf180",
   "metadata": {},
   "outputs": [],
   "source": [
    "lst = np.random.randint(0, 100, size=(50)).astype(str).tolist()\n",
    "print('init list', ' '.join(lst), sep=' - ')\n",
    "print('fin list', ' '.join([v for k, v in enumerate(lst) if not k % 2]), sep=' - ')"
   ]
  },
  {
   "cell_type": "markdown",
   "id": "937a8ed8",
   "metadata": {},
   "source": [
    "### Написать программу, которая считывает список слов и находит слова, содержащие более трех гласных букв."
   ]
  },
  {
   "cell_type": "code",
   "execution_count": null,
   "id": "5d9f85d2",
   "metadata": {},
   "outputs": [],
   "source": [
    "# для тестовой строки\n",
    "vowels ='аеиоуюэя'\n",
    "\n",
    "words = [v.strip(string.punctuation) for v in n.split()]\n",
    "v_cnt = lambda x: sum([1 for i in x if i in vowels])\n",
    "print('\\n'.join([word for k, word in enumerate(words) if k in [k for k, v in enumerate(words) if v_cnt(v) > 3]]))"
   ]
  },
  {
   "cell_type": "code",
   "execution_count": null,
   "id": "ed046228",
   "metadata": {},
   "outputs": [],
   "source": [
    "# для ввода пользователя\n",
    "vowels ='аеиоуюэя'\n",
    "\n",
    "words = [v.strip(string.punctuation) for v in input('Введите строку: ').split()]\n",
    "v_cnt = lambda x: sum([1 for i in x if i in vowels])\n",
    "print()\n",
    "print('\\n'.join([word for k, word in enumerate(words) if k in [k for k, v in enumerate(words) if v_cnt(v) > 3]]))"
   ]
  },
  {
   "cell_type": "markdown",
   "id": "76b92a19",
   "metadata": {},
   "source": [
    "### Написать программу, которая находит второй по величине элемент в списке."
   ]
  },
  {
   "cell_type": "code",
   "execution_count": null,
   "id": "385da3d9",
   "metadata": {
    "scrolled": true
   },
   "outputs": [],
   "source": [
    "lst = np.random.randint(0, 100, size=(50)).astype(str).tolist()\n",
    "print('init list', ' '.join(sorted(lst)), sep=' - ')\n",
    "print('element', sorted(lst, reverse=True)[1], sep=' - ')"
   ]
  },
  {
   "cell_type": "markdown",
   "id": "ba543363",
   "metadata": {},
   "source": [
    "### Написать программу, которая удаляет из списка все дубликаты."
   ]
  },
  {
   "cell_type": "code",
   "execution_count": null,
   "id": "aa520270",
   "metadata": {},
   "outputs": [],
   "source": [
    "a =  lambda x: x if x % 2 == 0 else x - 1\n",
    "lst = [str(a(x)) for x in range(1, 21)]\n",
    "print('init list', ' '.join(sorted(lst)), sep=' - ')\n",
    "print('fin list', ' '.join(sorted(list(set(lst)))), sep=' - ')"
   ]
  },
  {
   "cell_type": "markdown",
   "id": "c0d66ea0",
   "metadata": {},
   "source": [
    "### Написать программу, которая считывает данные из CSV-файла и создает словарь, где ключами являются значения в столбце «Name», а значениями — соответствующие им словари с информацией о поле, возрасте и зарплате."
   ]
  },
  {
   "cell_type": "code",
   "execution_count": null,
   "id": "10f79648",
   "metadata": {
    "scrolled": true
   },
   "outputs": [],
   "source": [
    "df = pd.read_csv('data.csv', delimiter=';')\n",
    "df.set_index(\"name\", drop=True, inplace=True)\n",
    "fin_dict = df.to_dict(orient=\"index\")\n",
    "fin_dict"
   ]
  },
  {
   "cell_type": "markdown",
   "id": "af198e3e",
   "metadata": {},
   "source": [
    "### Написать программу, которая запрашивает у пользователя строку и выводит на экран все ее подстроки длиной не менее трех символов."
   ]
  },
  {
   "cell_type": "markdown",
   "id": "b1629cdc",
   "metadata": {},
   "source": [
    "*Поскольку из условия не очень понятно, как трактовать понятие \"подстрока\", для решения задачи я определяю подстроку как слово (непрерывная последовательность букв русского или латинского алфавита и символов '-').*\n",
    "\n",
    "*Если же имелось в виду получениие всех возможных перестановок из символов строки длиною более трёх, то модулем itertools я тоже умею пользоваться :)*"
   ]
  },
  {
   "cell_type": "code",
   "execution_count": null,
   "id": "af968d94",
   "metadata": {},
   "outputs": [],
   "source": [
    "# для тестовой строки\n",
    "words = [v.strip(string.punctuation) for v in n.split()]\n",
    "new_words = [word for key, word in enumerate(words) if key in [k for k, v in enumerate(words) if len(v) > 3]]\n",
    "print('\\n'.join(new_words))"
   ]
  },
  {
   "cell_type": "code",
   "execution_count": null,
   "id": "a0c7a2c6",
   "metadata": {},
   "outputs": [],
   "source": [
    "# для ввода пользователя\n",
    "words = [v.strip(string.punctuation) for v in input('Введите строку: ').split()]\n",
    "new_words = [word for key, word in enumerate(words) if key in [k for k, v in enumerate(words) if len(v) > 3]]\n",
    "print()\n",
    "print('\\n'.join(new_words))"
   ]
  }
 ],
 "metadata": {
  "kernelspec": {
   "display_name": "Python 3 (ipykernel)",
   "language": "python",
   "name": "python3"
  },
  "language_info": {
   "codemirror_mode": {
    "name": "ipython",
    "version": 3
   },
   "file_extension": ".py",
   "mimetype": "text/x-python",
   "name": "python",
   "nbconvert_exporter": "python",
   "pygments_lexer": "ipython3",
   "version": "3.10.9"
  }
 },
 "nbformat": 4,
 "nbformat_minor": 5
}
