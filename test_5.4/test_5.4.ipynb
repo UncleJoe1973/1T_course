{
 "cells": [
  {
   "cell_type": "code",
   "execution_count": 1,
   "metadata": {
    "jupyter": {
     "outputs_hidden": false
    },
    "pycharm": {
     "name": "#%%\n"
    }
   },
   "outputs": [],
   "source": [
    "import torch\n",
    "import numpy as np\n",
    "import matplotlib.pyplot as plt\n",
    "from torchvision import datasets\n",
    "from torch.utils.data import DataLoader\n",
    "from torchvision.transforms import ToTensor\n",
    "from tqdm import tqdm\n",
    "import seaborn as sns"
   ]
  },
  {
   "cell_type": "markdown",
   "metadata": {
    "pycharm": {
     "name": "#%% md\n"
    }
   },
   "source": [
    "### Подготовка данных для использования\n",
    " - Получение Датасета\n",
    " - Получение Даталоадера\n",
    " - Просмотр данных"
   ]
  },
  {
   "cell_type": "code",
   "execution_count": 2,
   "metadata": {
    "jupyter": {
     "outputs_hidden": false
    },
    "pycharm": {
     "name": "#%%\n"
    }
   },
   "outputs": [],
   "source": [
    "train_dataset = datasets.MNIST(\n",
    "    root = './data',\n",
    "    train = True,\n",
    "    download = True,\n",
    "    transform=ToTensor()\n",
    ")\n",
    "test_dataset = datasets.MNIST(\n",
    "    root = './data',\n",
    "    train = False,\n",
    "    transform=ToTensor()\n",
    ")"
   ]
  },
  {
   "cell_type": "code",
   "execution_count": 3,
   "metadata": {
    "jupyter": {
     "outputs_hidden": false
    },
    "pycharm": {
     "name": "#%%\n"
    }
   },
   "outputs": [],
   "source": [
    "BATCH_SIZE = 64"
   ]
  },
  {
   "cell_type": "code",
   "execution_count": 4,
   "metadata": {
    "jupyter": {
     "outputs_hidden": false
    },
    "pycharm": {
     "name": "#%%\n"
    }
   },
   "outputs": [],
   "source": [
    "train_dataloader = DataLoader(train_dataset, batch_size=BATCH_SIZE, shuffle=True, drop_last=True)\n",
    "test_dataloader = DataLoader(test_dataset, batch_size=BATCH_SIZE, shuffle=True, drop_last=True)"
   ]
  },
  {
   "cell_type": "code",
   "execution_count": 5,
   "metadata": {
    "jupyter": {
     "outputs_hidden": false
    },
    "pycharm": {
     "name": "#%%\n"
    }
   },
   "outputs": [
    {
     "data": {
      "text/plain": [
       "tensor([2, 8, 5, 3, 1, 9, 2, 8, 4, 9, 0, 1, 6, 2, 7, 9, 5, 8, 1, 9, 4, 0, 8, 6,\n",
       "        1, 6, 6, 0, 8, 9, 6, 5, 3, 7, 9, 7, 7, 9, 9, 5, 1, 5, 7, 6, 2, 9, 5, 5,\n",
       "        9, 1, 8, 7, 6, 1, 5, 6, 3, 0, 4, 5, 3, 7, 4, 2])"
      ]
     },
     "execution_count": 5,
     "metadata": {},
     "output_type": "execute_result"
    }
   ],
   "source": [
    "### Целевое значение\n",
    "next(iter(train_dataloader))[1]"
   ]
  },
  {
   "cell_type": "code",
   "execution_count": 6,
   "metadata": {
    "jupyter": {
     "outputs_hidden": false
    },
    "pycharm": {
     "name": "#%%\n"
    }
   },
   "outputs": [
    {
     "data": {
      "text/plain": [
       "torch.Size([64, 1, 28, 28])"
      ]
     },
     "execution_count": 6,
     "metadata": {},
     "output_type": "execute_result"
    }
   ],
   "source": [
    "### Torch tensor\n",
    "next(iter(train_dataloader))[0].shape"
   ]
  },
  {
   "cell_type": "code",
   "execution_count": 7,
   "metadata": {
    "jupyter": {
     "outputs_hidden": false
    },
    "pycharm": {
     "name": "#%%\n"
    }
   },
   "outputs": [
    {
     "data": {
      "text/plain": [
       "<matplotlib.image.AxesImage at 0x29cbafb1c10>"
      ]
     },
     "execution_count": 7,
     "metadata": {},
     "output_type": "execute_result"
    },
    {
     "data": {
      "image/png": "[encoded data removed]",
      "text/plain": [
       "<Figure size 640x480 with 1 Axes>"
      ]
     },
     "metadata": {},
     "output_type": "display_data"
    }
   ],
   "source": [
    "for_show = next(iter(train_dataloader))[0]\n",
    "plt.imshow(for_show.numpy()[0][0])"
   ]
  },
  {
   "cell_type": "markdown",
   "metadata": {
    "pycharm": {
     "name": "#%% md\n"
    }
   },
   "source": [
    "### Построим нейронную сеть, чтобы для решения задачи бинарной классфикации (является ли цифра 9-кой или нет)"
   ]
  },
  {
   "cell_type": "code",
   "execution_count": 8,
   "metadata": {
    "jupyter": {
     "outputs_hidden": false
    },
    "pycharm": {
     "name": "#%%\n"
    }
   },
   "outputs": [],
   "source": [
    "class IsOne(torch.nn.Module):\n",
    "    def __init__(self, dims=[256, 64, 32], dropout_p=0.3): #добавление массива количества нейронов и вероятности dropout\n",
    "        super().__init__()\n",
    "        self.Linear1 = torch.nn.Linear(28 * 28, dims[0])\n",
    "        self.Linear2 = torch.nn.Linear(dims[0], dims[1])\n",
    "        self.Linear3 = torch.nn.Linear(dims[1], dims[2]) #добавление одного внутреннего слоя\n",
    "        self.Linear4 = torch.nn.Linear(dims[2], 10) #размерность выхода 10\n",
    "        self.relu = torch.nn.ReLU()\n",
    "        self.dropout = torch.nn.Dropout(dropout_p)# добавлен слой с dropout\n",
    "        self.SoftMax = torch.nn.Softmax(dim=1) #изменена функция активации на выходе\n",
    "        \n",
    "        \n",
    "    def forward(self, x):\n",
    "        x = x.squeeze(1)\n",
    "        x = x.flatten(1)\n",
    "        x = self.dropout(x)\n",
    "        x = self.Linear1(x)\n",
    "        x = self.relu(x)\n",
    "        x = self.Linear2(x)\n",
    "        x = self.relu(x)\n",
    "        x = self.Linear3(x)\n",
    "        x = self.relu(x)\n",
    "        x = self.Linear4(x)\n",
    "        x = self.SoftMax(x)\n",
    "        return x"
   ]
  },
  {
   "cell_type": "code",
   "execution_count": 9,
   "metadata": {
    "jupyter": {
     "outputs_hidden": false
    },
    "pycharm": {
     "name": "#%%\n"
    }
   },
   "outputs": [],
   "source": [
    "model = IsOne()"
   ]
  },
  {
   "cell_type": "markdown",
   "metadata": {
    "pycharm": {
     "name": "#%% md\n"
    }
   },
   "source": [
    "### Функция, вычисляющая лосс"
   ]
  },
  {
   "cell_type": "code",
   "execution_count": 10,
   "metadata": {
    "jupyter": {
     "outputs_hidden": false
    },
    "pycharm": {
     "name": "#%%\n"
    }
   },
   "outputs": [],
   "source": [
    "def loss_function(true, pred): \n",
    "    loss = torch.nn.CrossEntropyLoss() #изменена функция потерь\n",
    "    return loss(pred, true)"
   ]
  },
  {
   "cell_type": "markdown",
   "metadata": {
    "pycharm": {
     "name": "#%% md\n"
    }
   },
   "source": [
    "### Оптимизатор"
   ]
  },
  {
   "cell_type": "code",
   "execution_count": 11,
   "metadata": {
    "jupyter": {
     "outputs_hidden": false
    },
    "pycharm": {
     "name": "#%%\n"
    }
   },
   "outputs": [],
   "source": [
    "optimizer = torch.optim.SGD(params = model.parameters(), lr = 1e-3)"
   ]
  },
  {
   "cell_type": "markdown",
   "metadata": {
    "pycharm": {
     "name": "#%% md\n"
    }
   },
   "source": [
    "### Построим процесс обучения нейронной сети"
   ]
  },
  {
   "cell_type": "code",
   "execution_count": 12,
   "metadata": {
    "jupyter": {
     "outputs_hidden": false
    },
    "pycharm": {
     "name": "#%%\n"
    }
   },
   "outputs": [],
   "source": [
    "NUM_EPOCHS = 250"
   ]
  },
  {
   "cell_type": "code",
   "execution_count": 13,
   "metadata": {
    "jupyter": {
     "outputs_hidden": false
    },
    "pycharm": {
     "name": "#%%\n"
    }
   },
   "outputs": [
    {
     "name": "stderr",
     "output_type": "stream",
     "text": [
      "100%|██████████| 250/250 [37:15<00:00,  8.94s/it]\n"
     ]
    }
   ],
   "source": [
    "train_loss = []\n",
    "test_loss = []\n",
    "for epoch in tqdm(range(NUM_EPOCHS)):\n",
    "    model.train(True)\n",
    "    train_loss_epoch = 0\n",
    "    test_loss_epoch = 0\n",
    "    for X, y in train_dataloader:\n",
    "        model.zero_grad()\n",
    "        true = y\n",
    "        predictions = model.forward(X)\n",
    "        loss_value = loss_function(true, predictions)\n",
    "        loss_value.backward()\n",
    "        train_loss_epoch += loss_value.item()/len(train_dataloader)\n",
    "        optimizer.step()\n",
    "    train_loss.append(train_loss_epoch)\n",
    "    model.train(False)\n",
    "    for X, y in test_dataloader:\n",
    "        true = y\n",
    "        predictions = model.forward(X)\n",
    "        loss_value = loss_function(true, predictions)\n",
    "        test_loss_epoch += loss_value.item()/len(test_dataloader)\n",
    "    test_loss.append(test_loss_epoch)\n",
    "    # print(epoch, train_loss[-1], test_loss[-1])"
   ]
  },
  {
   "cell_type": "code",
   "execution_count": 14,
   "metadata": {
    "jupyter": {
     "outputs_hidden": false
    },
    "pycharm": {
     "name": "#%%\n"
    }
   },
   "outputs": [
    {
     "data": {
      "text/plain": [
       "<Axes: >"
      ]
     },
     "execution_count": 14,
     "metadata": {},
     "output_type": "execute_result"
    },
    {
     "data": {
      "image/png": "[encoded data removed]",
      "text/plain": [
       "<Figure size 640x480 with 1 Axes>"
      ]
     },
     "metadata": {},
     "output_type": "display_data"
    }
   ],
   "source": [
    "sns.lineplot(train_loss)\n",
    "sns.lineplot(test_loss)"
   ]
  },
  {
   "cell_type": "code",
   "execution_count": 15,
   "metadata": {
    "jupyter": {
     "outputs_hidden": false
    },
    "pycharm": {
     "name": "#%%\n"
    }
   },
   "outputs": [],
   "source": [
    "preds = []\n",
    "reals = []\n",
    "for X, y in test_dataloader:\n",
    "    preds.append(model(X).detach().numpy())\n",
    "    reals.append(y.numpy())"
   ]
  },
  {
   "cell_type": "code",
   "execution_count": 16,
   "metadata": {
    "jupyter": {
     "outputs_hidden": false
    },
    "pycharm": {
     "name": "#%%\n"
    }
   },
   "outputs": [],
   "source": [
    "preds = (np.concatenate(preds).argmax(axis=1)).astype(int)"
   ]
  },
  {
   "cell_type": "code",
   "execution_count": 17,
   "metadata": {
    "jupyter": {
     "outputs_hidden": false
    },
    "pycharm": {
     "name": "#%%\n"
    }
   },
   "outputs": [],
   "source": [
    "reals = np.concatenate(reals)"
   ]
  },
  {
   "cell_type": "code",
   "execution_count": 18,
   "metadata": {
    "jupyter": {
     "outputs_hidden": false
    },
    "pycharm": {
     "name": "#%%\n"
    }
   },
   "outputs": [],
   "source": [
    "from sklearn.metrics import accuracy_score, f1_score, classification_report"
   ]
  },
  {
   "cell_type": "code",
   "execution_count": 19,
   "metadata": {
    "jupyter": {
     "outputs_hidden": false
    },
    "pycharm": {
     "name": "#%%\n"
    }
   },
   "outputs": [
    {
     "name": "stdout",
     "output_type": "stream",
     "text": [
      "              precision    recall  f1-score   support\n",
      "\n",
      "           0       0.92      0.97      0.95       977\n",
      "           1       0.95      0.97      0.96      1134\n",
      "           2       0.91      0.89      0.90      1030\n",
      "           3       0.91      0.88      0.89      1009\n",
      "           4       0.88      0.92      0.90       980\n",
      "           5       0.84      0.75      0.80       891\n",
      "           6       0.90      0.94      0.92       957\n",
      "           7       0.94      0.86      0.90      1027\n",
      "           8       0.84      0.86      0.85       970\n",
      "           9       0.85      0.89      0.87      1009\n",
      "\n",
      "    accuracy                           0.89      9984\n",
      "   macro avg       0.89      0.89      0.89      9984\n",
      "weighted avg       0.89      0.89      0.89      9984\n",
      "\n"
     ]
    }
   ],
   "source": [
    "print(classification_report(reals, preds))"
   ]
  },
  {
   "cell_type": "markdown",
   "metadata": {
    "pycharm": {
     "name": "#%% md\n"
    }
   },
   "source": [
    "### Домашняя работа\n",
    "Изменить нейронную сеть следующим образом:\n",
    " - Чтобы она решала задачу не бинарной классификации, а многоклассовой (Для этого нужно использовать другую лосс функцию и функцию активации на выходе)\n",
    " - Чтобы в ней было не 2 скрытых слоя, а три\n",
    " - Чтобы кол-во нейронов подставлялось через массив, поданный при инициализации класса модели\n",
    " - Чтобы происходил dropout (вероятность 0.3) до первого скрытого слоя. Показать, как это изменение повлияло на результат работы модели на тестовой выборке.\n",
    " - Посчитать метрики классификации через classification report (sklearn) для каждого класса"
   ]
  },
  {
   "cell_type": "code",
   "execution_count": null,
   "metadata": {
    "jupyter": {
     "outputs_hidden": false
    },
    "pycharm": {
     "name": "#%%\n"
    }
   },
   "outputs": [],
   "source": []
  }
 ],
 "metadata": {
  "kernelspec": {
   "display_name": "Python 3 (ipykernel)",
   "language": "python",
   "name": "python3"
  },
  "language_info": {
   "codemirror_mode": {
    "name": "ipython",
    "version": 3
   },
   "file_extension": ".py",
   "mimetype": "text/x-python",
   "name": "python",
   "nbconvert_exporter": "python",
   "pygments_lexer": "ipython3",
   "version": "3.11.4"
  }
 },
 "nbformat": 4,
 "nbformat_minor": 4
}
