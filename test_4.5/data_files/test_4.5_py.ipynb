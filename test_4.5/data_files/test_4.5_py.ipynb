{
 "cells": [
  {
   "cell_type": "code",
   "execution_count": null,
   "id": "990181b9",
   "metadata": {},
   "outputs": [],
   "source": [
    "import numpy as np\n",
    "import pandas as pd"
   ]
  },
  {
   "cell_type": "markdown",
   "id": "e4f3be80",
   "metadata": {},
   "source": [
    "## Обработка файла customers.csv"
   ]
  },
  {
   "cell_type": "code",
   "execution_count": null,
   "id": "d01ab084",
   "metadata": {},
   "outputs": [],
   "source": [
    "df = pd.read_csv('raw/customers.csv')\n",
    "\n",
    "#вставка столбца с годом подписки\n",
    "df['year_subs'] = df['Subscription Date'].astype('datetime64[ns]').dt.to_period('Y')\n",
    "\n",
    "df['tmp'] = df['Customer Id'].apply(lambda a: int(a, 16))\n",
    "\n",
    "#деление на группы\n",
    "df['cust_group'] = pd.qcut(df['tmp'], q=10, labels=['01', '02', '03', '04', '05', '06', '07', '08', '09', '10'])\n",
    "\n",
    "df.drop(columns = ['tmp'], axis = 1, inplace=True)\n",
    "\n",
    "df.to_csv('customers_new.csv', index= False, sep='\\t')"
   ]
  },
  {
   "cell_type": "markdown",
   "id": "ce5f604b",
   "metadata": {},
   "source": [
    "## Обработка файла people.csv"
   ]
  },
  {
   "cell_type": "code",
   "execution_count": null,
   "id": "e7ace229",
   "metadata": {},
   "outputs": [],
   "source": [
    "df = pd.read_csv('raw/people.csv')\n",
    "\n",
    "df['tmp'] = df['User Id'].apply(lambda a: int(a, 16))\n",
    "\n",
    "df['cust_group'] = pd.qcut(df['tmp'], q=10, labels=['01', '02', '03', '04', '05', '06', '07', '08', '09', '10'])\n",
    "\n",
    "df.drop(columns = ['tmp'], axis = 1, inplace=True)\n",
    "\n",
    "df.to_csv('people_new.csv', index= False, sep='\\t')"
   ]
  },
  {
   "cell_type": "markdown",
   "id": "d248c83c",
   "metadata": {},
   "source": [
    "## Обработка файла organizations.csv"
   ]
  },
  {
   "cell_type": "code",
   "execution_count": null,
   "id": "336a5feb",
   "metadata": {},
   "outputs": [],
   "source": [
    "df = pd.read_csv('raw/organizations.csv')\n",
    "\n",
    "df['tmp'] = df['Organization Id'].apply(lambda a: int(a, 16))\n",
    "\n",
    "df['cust_group'] = pd.qcut(df['tmp'], q=10, labels=['01', '02', '03', '04', '05', '06', '07', '08', '09', '10'])\n",
    "\n",
    "df.drop(columns = ['tmp'], axis = 1, inplace=True)\n",
    "\n",
    "df.to_csv('organizations_new.csv', index= False, sep='\\t')"
   ]
  },
  {
   "cell_type": "markdown",
   "id": "636e966a",
   "metadata": {},
   "source": [
    "## Вспомогательная таблица возрастных групп"
   ]
  },
  {
   "cell_type": "code",
   "execution_count": 61,
   "id": "01d0e711",
   "metadata": {},
   "outputs": [],
   "source": [
    "df = pd.DataFrame([[0, 18, '0-18'], \n",
    "        [19, 25, '19-25'], \n",
    "        [26, 32, '26-32'], \n",
    "        [33, 39, '33-39'], \n",
    "        [40, 47, '40-47'], \n",
    "        [48, 54, '48-54'], \n",
    "        [55, 61, '55-61'],\n",
    "        [62, 69, '62-69'],\n",
    "        [70, 150, '70+']])\n",
    "df.to_csv('age_groups.csv', index= False, header= False) "
   ]
  }
 ],
 "metadata": {
  "kernelspec": {
   "display_name": "Python 3 (ipykernel)",
   "language": "python",
   "name": "python3"
  },
  "language_info": {
   "codemirror_mode": {
    "name": "ipython",
    "version": 3
   },
   "file_extension": ".py",
   "mimetype": "text/x-python",
   "name": "python",
   "nbconvert_exporter": "python",
   "pygments_lexer": "ipython3",
   "version": "3.10.9"
  }
 },
 "nbformat": 4,
 "nbformat_minor": 5
}
