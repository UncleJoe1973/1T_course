{
 "cells": [
  {
   "cell_type": "code",
   "execution_count": 1,
   "id": "bc1f4085",
   "metadata": {
    "scrolled": true
   },
   "outputs": [],
   "source": [
    "import pandas as pd\n",
    "import numpy as np\n",
    "from sklearn.model_selection import train_test_split\n",
    "from sklearn.metrics import roc_auc_score, classification_report"
   ]
  },
  {
   "cell_type": "code",
   "execution_count": 27,
   "id": "71ebcb66",
   "metadata": {
    "scrolled": true
   },
   "outputs": [],
   "source": [
    "import featuretools as ft\n",
    "from catboost import CatBoostClassifier"
   ]
  },
  {
   "cell_type": "markdown",
   "id": "3819d2a0",
   "metadata": {},
   "source": [
    "## Загрузка данных"
   ]
  },
  {
   "cell_type": "code",
   "execution_count": 3,
   "id": "55be2f45",
   "metadata": {
    "scrolled": true
   },
   "outputs": [],
   "source": [
    "data = pd.read_csv('application_train.csv')\n",
    "bureau = pd.read_csv('bureau.csv')\n",
    "bureau_balance = pd.read_csv('bureau_balance.csv')"
   ]
  },
  {
   "cell_type": "markdown",
   "id": "cff04af0",
   "metadata": {},
   "source": [
    "## Инициализация таблиц в featuretools, генерация признаков"
   ]
  },
  {
   "cell_type": "code",
   "execution_count": 4,
   "id": "7b665905",
   "metadata": {
    "scrolled": true
   },
   "outputs": [],
   "source": [
    "es = ft.EntitySet(id='clients')"
   ]
  },
  {
   "cell_type": "code",
   "execution_count": 5,
   "id": "08a4ccf5",
   "metadata": {
    "scrolled": true
   },
   "outputs": [],
   "source": [
    "es = es.add_dataframe(dataframe_name='app', dataframe=data, index='SK_ID_CURR')\n",
    "es = es.add_dataframe(dataframe_name='bureau', dataframe=bureau, index='SK_ID_BUREAU')\n",
    "es = es.add_dataframe(dataframe_name='bureau_balance', dataframe=bureau_balance, make_index=True, \n",
    "                      index='bureaubalance_index')"
   ]
  },
  {
   "cell_type": "code",
   "execution_count": 6,
   "id": "70e9740b",
   "metadata": {
    "scrolled": true
   },
   "outputs": [],
   "source": [
    "r_app_bureau = ft.Relationship(es, 'app', 'SK_ID_CURR', 'bureau', 'SK_ID_CURR')"
   ]
  },
  {
   "cell_type": "code",
   "execution_count": 7,
   "id": "cabe2181",
   "metadata": {
    "scrolled": true
   },
   "outputs": [],
   "source": [
    "r_bureau_balance = ft.Relationship(es, 'bureau', 'SK_ID_BUREAU', 'bureau_balance', 'SK_ID_BUREAU')"
   ]
  },
  {
   "cell_type": "code",
   "execution_count": 8,
   "id": "1eb819ac",
   "metadata": {
    "scrolled": true
   },
   "outputs": [],
   "source": [
    "es = es.add_relationships([r_app_bureau, r_bureau_balance])"
   ]
  },
  {
   "cell_type": "code",
   "execution_count": 9,
   "id": "e06c14f2",
   "metadata": {
    "scrolled": true
   },
   "outputs": [],
   "source": [
    "agg_func = ['sum', 'std', 'max', 'min', 'mean', 'count', 'num_unique', 'mode'] #функции для генерации признаков"
   ]
  },
  {
   "cell_type": "code",
   "execution_count": 10,
   "id": "f9e0d3e8",
   "metadata": {},
   "outputs": [
    {
     "name": "stdout",
     "output_type": "stream",
     "text": [
      "Built 294 features\n",
      "EntitySet scattered to 2 workers in 32 seconds\n",
      "Elapsed: 03:35 | Progress: 100%|██████████\n"
     ]
    }
   ],
   "source": [
    "#генерация признаков\n",
    "features_set, feature_names = ft.dfs(entityset=es, \n",
    "                                     target_dataframe_name='app',\n",
    "                                     agg_primitives=agg_func,\n",
    "                                     max_depth=2,\n",
    "                                     verbose=True, n_jobs=2)"
   ]
  },
  {
   "cell_type": "markdown",
   "id": "3c1853c1",
   "metadata": {},
   "source": [
    "## Разбиение на тренировочный и тестовый набор, отбор признаков "
   ]
  },
  {
   "cell_type": "code",
   "execution_count": 11,
   "id": "c7ec8096",
   "metadata": {},
   "outputs": [],
   "source": [
    "X, y = features_set.drop(columns='TARGET'), features_set.TARGET"
   ]
  },
  {
   "cell_type": "code",
   "execution_count": 13,
   "id": "b23487ae",
   "metadata": {},
   "outputs": [],
   "source": [
    "cat_features = X.columns[X.dtypes=='category'].to_list()\n",
    "X[cat_features] = X[cat_features].astype(str)\n",
    "X[cat_features] = X[cat_features].fillna('None')\n",
    "X = X.replace({pd.NA:None})\n",
    "X[cat_features] = X[cat_features].astype('category')"
   ]
  },
  {
   "cell_type": "code",
   "execution_count": 14,
   "id": "2a6eccab",
   "metadata": {},
   "outputs": [],
   "source": [
    "X_train, X_test, y_train, y_test = train_test_split(X, y, random_state=21, test_size=0.3, )"
   ]
  },
  {
   "cell_type": "code",
   "execution_count": 18,
   "id": "61d2064e",
   "metadata": {},
   "outputs": [],
   "source": [
    "cbc = CatBoostClassifier(iterations=150, \n",
    "                         cat_features=cat_features, \n",
    "                         eval_metric='AUC', #целевая метрика\n",
    "                         task_type='CPU', verbose=False)"
   ]
  },
  {
   "cell_type": "code",
   "execution_count": 19,
   "id": "6960fc8f",
   "metadata": {},
   "outputs": [
    {
     "name": "stdout",
     "output_type": "stream",
     "text": [
      "Learning rate set to 0.5\n",
      "Step #1 out of 1\n",
      "Feature #232 eliminated\n",
      "Feature #228 eliminated\n",
      "Feature #222 eliminated\n",
      "Feature #3 eliminated\n",
      "Feature #96 eliminated\n",
      "Feature #218 eliminated\n",
      "Feature #288 eliminated\n",
      "Feature #287 eliminated\n",
      "Feature #286 eliminated\n",
      "Feature #264 eliminated\n",
      "Feature #215 eliminated\n",
      "Feature #284 eliminated\n",
      "Feature #99 eliminated\n",
      "Feature #13 eliminated\n",
      "Feature #209 eliminated\n",
      "Feature #207 eliminated\n",
      "Feature #233 eliminated\n",
      "Feature #201 eliminated\n",
      "Feature #200 eliminated\n",
      "Feature #199 eliminated\n",
      "Feature #20 eliminated\n",
      "Feature #198 eliminated\n",
      "Feature #276 eliminated\n",
      "Feature #23 eliminated\n",
      "Feature #197 eliminated\n",
      "Feature #25 eliminated\n",
      "Feature #275 eliminated\n",
      "Feature #195 eliminated\n",
      "Feature #194 eliminated\n",
      "Feature #191 eliminated\n",
      "Feature #187 eliminated\n",
      "Feature #234 eliminated\n",
      "Feature #32 eliminated\n",
      "Feature #102 eliminated\n",
      "Feature #34 eliminated\n",
      "Feature #104 eliminated\n",
      "Feature #266 eliminated\n",
      "Feature #170 eliminated\n",
      "Feature #169 eliminated\n",
      "Feature #271 eliminated\n",
      "Feature #162 eliminated\n",
      "Feature #107 eliminated\n",
      "Feature #109 eliminated\n",
      "Feature #87 eliminated\n",
      "Feature #243 eliminated\n",
      "Feature #45 eliminated\n",
      "Feature #46 eliminated\n",
      "Feature #47 eliminated\n",
      "Feature #267 eliminated\n",
      "Feature #97 eliminated\n",
      "Feature #50 eliminated\n",
      "Feature #151 eliminated\n",
      "Feature #111 eliminated\n",
      "Feature #112 eliminated\n",
      "Feature #82 eliminated\n",
      "Feature #145 eliminated\n",
      "Feature #81 eliminated\n",
      "Feature #57 eliminated\n",
      "Feature #80 eliminated\n",
      "Feature #113 eliminated\n",
      "Feature #78 eliminated\n",
      "Feature #61 eliminated\n",
      "Feature #257 eliminated\n",
      "Feature #77 eliminated\n",
      "Feature #64 eliminated\n",
      "Feature #65 eliminated\n",
      "Feature #126 eliminated\n",
      "Feature #75 eliminated\n",
      "Feature #73 eliminated\n",
      "Feature #262 eliminated\n",
      "Feature #114 eliminated\n",
      "Feature #71 eliminated\n",
      "Feature #181 eliminated\n",
      "Feature #258 eliminated\n",
      "Feature #182 eliminated\n",
      "Feature #158 eliminated\n",
      "Feature #263 eliminated\n",
      "Feature #256 eliminated\n",
      "Feature #179 eliminated\n",
      "Feature #245 eliminated\n",
      "Feature #152 eliminated\n",
      "Feature #246 eliminated\n",
      "Feature #9 eliminated\n",
      "Feature #63 eliminated\n",
      "Feature #54 eliminated\n",
      "Feature #157 eliminated\n",
      "Feature #139 eliminated\n",
      "Feature #94 eliminated\n",
      "Feature #85 eliminated\n",
      "Feature #74 eliminated\n",
      "Feature #76 eliminated\n",
      "Feature #150 eliminated\n",
      "Feature #161 eliminated\n",
      "Feature #68 eliminated\n",
      "Feature #214 eliminated\n",
      "Feature #248 eliminated\n",
      "Feature #219 eliminated\n",
      "Feature #251 eliminated\n",
      "Feature #116 eliminated\n",
      "Feature #88 eliminated\n",
      "Feature #274 eliminated\n",
      "Feature #224 eliminated\n",
      "Feature #259 eliminated\n",
      "Feature #223 eliminated\n",
      "Feature #106 eliminated\n",
      "Feature #69 eliminated\n",
      "Feature #37 eliminated\n",
      "Feature #101 eliminated\n",
      "Feature #59 eliminated\n",
      "Feature #28 eliminated\n",
      "Feature #49 eliminated\n",
      "Feature #83 eliminated\n",
      "Feature #225 eliminated\n",
      "Feature #216 eliminated\n",
      "Feature #265 eliminated\n",
      "Feature #221 eliminated\n",
      "Feature #196 eliminated\n",
      "Feature #244 eliminated\n",
      "Feature #70 eliminated\n",
      "Feature #277 eliminated\n",
      "Feature #240 eliminated\n",
      "Feature #281 eliminated\n",
      "Feature #103 eliminated\n",
      "Feature #100 eliminated\n",
      "Feature #292 eliminated\n",
      "Feature #105 eliminated\n",
      "Feature #268 eliminated\n",
      "Feature #52 eliminated\n",
      "Feature #168 eliminated\n",
      "Feature #115 eliminated\n",
      "Feature #239 eliminated\n",
      "Feature #55 eliminated\n",
      "Feature #43 eliminated\n",
      "Feature #192 eliminated\n",
      "Feature #53 eliminated\n",
      "Feature #98 eliminated\n",
      "Feature #36 eliminated\n",
      "Feature #66 eliminated\n",
      "Feature #21 eliminated\n",
      "Feature #189 eliminated\n",
      "Feature #252 eliminated\n",
      "Feature #255 eliminated\n",
      "Feature #202 eliminated\n",
      "Feature #33 eliminated\n",
      "Feature #128 eliminated\n",
      "Feature #269 eliminated\n",
      "Feature #24 eliminated\n",
      "Feature #211 eliminated\n",
      "Feature #285 eliminated\n",
      "Feature #260 eliminated\n",
      "Feature #127 eliminated\n",
      "Feature #27 eliminated\n",
      "Feature #217 eliminated\n",
      "Feature #91 eliminated\n",
      "Feature #227 eliminated\n",
      "Feature #226 eliminated\n",
      "Feature #79 eliminated\n",
      "Feature #231 eliminated\n",
      "Feature #117 eliminated\n",
      "Feature #208 eliminated\n",
      "Feature #60 eliminated\n",
      "Feature #175 eliminated\n",
      "Feature #213 eliminated\n",
      "Feature #254 eliminated\n",
      "Feature #270 eliminated\n",
      "Feature #180 eliminated\n",
      "Feature #67 eliminated\n",
      "Feature #229 eliminated\n",
      "Feature #72 eliminated\n",
      "Feature #42 eliminated\n",
      "Feature #250 eliminated\n",
      "Feature #204 eliminated\n",
      "Feature #203 eliminated\n",
      "Feature #210 eliminated\n",
      "Feature #206 eliminated\n",
      "Feature #188 eliminated\n",
      "Feature #291 eliminated\n",
      "Feature #283 eliminated\n",
      "Feature #185 eliminated\n",
      "Feature #237 eliminated\n",
      "Feature #289 eliminated\n",
      "Feature #51 eliminated\n",
      "Feature #140 eliminated\n",
      "Feature #30 eliminated\n",
      "Feature #249 eliminated\n",
      "Feature #44 eliminated\n",
      "Feature #242 eliminated\n",
      "Feature #253 eliminated\n",
      "Feature #190 eliminated\n",
      "Feature #89 eliminated\n",
      "Feature #133 eliminated\n",
      "Feature #278 eliminated\n",
      "Feature #241 eliminated\n",
      "Feature #163 eliminated\n",
      "Feature #108 eliminated\n",
      "Feature #166 eliminated\n",
      "Feature #84 eliminated\n",
      "Feature #125 eliminated\n",
      "Feature #273 eliminated\n",
      "Feature #282 eliminated\n",
      "Feature #272 eliminated\n",
      "Feature #62 eliminated\n",
      "Feature #110 eliminated\n",
      "Feature #212 eliminated\n",
      "Feature #160 eliminated\n",
      "Feature #149 eliminated\n",
      "Feature #247 eliminated\n",
      "Feature #92 eliminated\n",
      "Feature #176 eliminated\n",
      "Feature #159 eliminated\n",
      "Feature #261 eliminated\n",
      "Feature #236 eliminated\n",
      "Feature #174 eliminated\n",
      "Feature #279 eliminated\n",
      "Feature #138 eliminated\n",
      "Feature #280 eliminated\n",
      "Feature #144 eliminated\n",
      "Feature #155 eliminated\n",
      "Feature #220 eliminated\n",
      "Feature #230 eliminated\n",
      "Feature #48 eliminated\n",
      "Feature #4 eliminated\n",
      "Feature #238 eliminated\n",
      "Feature #148 eliminated\n",
      "Feature #193 eliminated\n",
      "Feature #121 eliminated\n",
      "Feature #290 eliminated\n",
      "Feature #58 eliminated\n",
      "Feature #164 eliminated\n",
      "Feature #177 eliminated\n",
      "Feature #131 eliminated\n",
      "Feature #35 eliminated\n",
      "Feature #235 eliminated\n",
      "Feature #146 eliminated\n",
      "Feature #86 eliminated\n",
      "Feature #137 eliminated\n",
      "Feature #156 eliminated\n",
      "Feature #147 eliminated\n",
      "Feature #17 eliminated\n",
      "Feature #31 eliminated\n",
      "Feature #124 eliminated\n",
      "Feature #22 eliminated\n",
      "Feature #10 eliminated\n",
      "Feature #186 eliminated\n",
      "Feature #171 eliminated\n",
      "Feature #142 eliminated\n",
      "Feature #134 eliminated\n",
      "Feature #118 eliminated\n",
      "Feature #119 eliminated\n",
      "Feature #2 eliminated\n",
      "Feature #0 eliminated\n",
      "Feature #154 eliminated\n",
      "Feature #95 eliminated\n",
      "Feature #165 eliminated\n",
      "Feature #167 eliminated\n",
      "Feature #90 eliminated\n",
      "Feature #153 eliminated\n",
      "Feature #143 eliminated\n",
      "Feature #205 eliminated\n",
      "Feature #183 eliminated\n",
      "Feature #5 eliminated\n",
      "Feature #132 eliminated\n",
      "Feature #56 eliminated\n",
      "Feature #120 eliminated\n",
      "Feature #26 eliminated\n",
      "Feature #178 eliminated\n",
      "Feature #12 eliminated\n",
      "Feature #172 eliminated\n",
      "Train final model\n"
     ]
    }
   ],
   "source": [
    "#отбор признаков\n",
    "res = cbc.select_features(X_train, y_train, features_for_select=X.columns, \n",
    "                          num_features_to_select=25, #25 признаков\n",
    "                          algorithm='RecursiveByPredictionValuesChange',\n",
    "                          verbose=False, train_final_model=True\n",
    "                         )"
   ]
  },
  {
   "cell_type": "code",
   "execution_count": 26,
   "id": "3c554a91",
   "metadata": {},
   "outputs": [
    {
     "data": {
      "text/plain": [
       "['CODE_GENDER',\n",
       " 'AMT_CREDIT',\n",
       " 'AMT_ANNUITY',\n",
       " 'AMT_GOODS_PRICE',\n",
       " 'NAME_EDUCATION_TYPE',\n",
       " 'REGION_POPULATION_RELATIVE',\n",
       " 'DAYS_BIRTH',\n",
       " 'DAYS_EMPLOYED',\n",
       " 'DAYS_ID_PUBLISH',\n",
       " 'OWN_CAR_AGE',\n",
       " 'REGION_RATING_CLIENT_W_CITY',\n",
       " 'ORGANIZATION_TYPE',\n",
       " 'EXT_SOURCE_1',\n",
       " 'EXT_SOURCE_2',\n",
       " 'EXT_SOURCE_3',\n",
       " 'DAYS_LAST_PHONE_CHANGE',\n",
       " 'MAX(bureau.AMT_CREDIT_MAX_OVERDUE)',\n",
       " 'MAX(bureau.AMT_CREDIT_SUM)',\n",
       " 'MAX(bureau.DAYS_CREDIT)',\n",
       " 'MAX(bureau.DAYS_CREDIT_ENDDATE)',\n",
       " 'MEAN(bureau.AMT_CREDIT_SUM)',\n",
       " 'MEAN(bureau.AMT_CREDIT_SUM_DEBT)',\n",
       " 'MEAN(bureau.DAYS_CREDIT)',\n",
       " 'STD(bureau.DAYS_CREDIT_UPDATE)',\n",
       " 'SUM(bureau.DAYS_CREDIT_ENDDATE)']"
      ]
     },
     "execution_count": 26,
     "metadata": {},
     "output_type": "execute_result"
    }
   ],
   "source": [
    "selected_features = res['selected_features_names']\n",
    "selected_features"
   ]
  },
  {
   "cell_type": "code",
   "execution_count": 22,
   "id": "c95a795f",
   "metadata": {},
   "outputs": [
    {
     "name": "stdout",
     "output_type": "stream",
     "text": [
      "Train set: \n",
      "ROC_AUC 0.8138634707691201\n",
      "              precision    recall  f1-score   support\n",
      "\n",
      "           0       0.93      1.00      0.96    197860\n",
      "           1       0.81      0.08      0.15     17397\n",
      "\n",
      "    accuracy                           0.92    215257\n",
      "   macro avg       0.87      0.54      0.56    215257\n",
      "weighted avg       0.92      0.92      0.89    215257\n",
      "\n"
     ]
    }
   ],
   "source": [
    "y_pred = cbc.predict(X_train)\n",
    "y_proba = cbc.predict_proba(X_train)[:, 1]\n",
    "print('Train set: ')\n",
    "print(f'ROC_AUC {roc_auc_score(y_train, y_proba)}')\n",
    "print(classification_report(y_train, y_pred))"
   ]
  },
  {
   "cell_type": "code",
   "execution_count": 24,
   "id": "17c91de5",
   "metadata": {},
   "outputs": [
    {
     "name": "stdout",
     "output_type": "stream",
     "text": [
      "Train set: \n",
      "ROC_AUC 0.75258946087249\n",
      "              precision    recall  f1-score   support\n",
      "\n",
      "           0       0.92      1.00      0.96     84826\n",
      "           1       0.45      0.04      0.08      7428\n",
      "\n",
      "    accuracy                           0.92     92254\n",
      "   macro avg       0.68      0.52      0.52     92254\n",
      "weighted avg       0.88      0.92      0.89     92254\n",
      "\n"
     ]
    }
   ],
   "source": [
    "y_pred = cbc.predict(X_test)\n",
    "y_proba = cbc.predict_proba(X_test)[:, 1]\n",
    "print('Train set: ')\n",
    "print(f'ROC_AUC {roc_auc_score(y_test, y_proba)}')\n",
    "print(classification_report(y_test, y_pred))"
   ]
  },
  {
   "cell_type": "markdown",
   "id": "5c1c4082",
   "metadata": {},
   "source": [
    "## Вывод - из полученных метрик виден большой дисбаланс классов, вследствие которого метрики на тестовой выборке просели => возможно, следует обратить внимание на балансировку классов"
   ]
  }
 ],
 "metadata": {
  "kernelspec": {
   "display_name": "Python 3 (ipykernel)",
   "language": "python",
   "name": "python3"
  },
  "language_info": {
   "codemirror_mode": {
    "name": "ipython",
    "version": 3
   },
   "file_extension": ".py",
   "mimetype": "text/x-python",
   "name": "python",
   "nbconvert_exporter": "python",
   "pygments_lexer": "ipython3",
   "version": "3.11.4"
  }
 },
 "nbformat": 4,
 "nbformat_minor": 5
}
